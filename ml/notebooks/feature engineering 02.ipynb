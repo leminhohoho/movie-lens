{
 "cells": [
  {
   "cell_type": "markdown",
   "id": "d5c2826f",
   "metadata": {},
   "source": [
    "# 0. The goal of this notebook\n",
    "\n",
    "- The previous feature engineering notebook focus on embedding single phrases, which is suitable for features like `genres` & `language`, but for more complex features like `desc` (movie description) or `name` (movie name), we will need to train a model to embed those. We will do this by training a transformer encoder only model to predict the genres, then we will plug out the middle layer of the feed forward layer and use it as the embedding for movies's name and description.\n",
    "\n",
    "# 1. Import libraries"
   ]
  },
  {
   "cell_type": "code",
   "execution_count": null,
   "id": "7505004c",
   "metadata": {},
   "outputs": [],
   "source": [
    "import polars as pl\n",
    "import tiktoken\n",
    "import torch"
   ]
  },
  {
   "cell_type": "markdown",
   "id": "8fd334a2",
   "metadata": {},
   "source": [
    "# 2. Import dataset"
   ]
  },
  {
   "cell_type": "code",
   "execution_count": null,
   "id": "e811deb5",
   "metadata": {},
   "outputs": [],
   "source": [
    "enc_movies = pl.read_parquet(\"/home/leminhohoho/repos/movie-lens/ml/data/encoded_movies.parquet\")\n",
    "enc_activities = pl.read_parquet(\"/home/leminhohoho/repos/movie-lens/ml/data/encoded_activities.parquet\")"
   ]
  },
  {
   "cell_type": "markdown",
   "id": "50b55757",
   "metadata": {},
   "source": [
    "# 3. Get batches\n",
    "\n",
    "- First we need to create a tokenizer"
   ]
  },
  {
   "cell_type": "code",
   "execution_count": null,
   "id": "59b1984c",
   "metadata": {
    "lines_to_next_cell": 0
   },
   "outputs": [],
   "source": [
    "enc = tiktoken.get_encoding(\"cl100k_base\")\n",
    "enc.n_vocab"
   ]
  },
  {
   "cell_type": "markdown",
   "id": "b8abea82",
   "metadata": {},
   "source": [
    "\n",
    "\n",
    "\n",
    "\n",
    "\n"
   ]
  }
 ],
 "metadata": {
  "jupytext": {
   "main_language": "python"
  }
 },
 "nbformat": 4,
 "nbformat_minor": 5
}
