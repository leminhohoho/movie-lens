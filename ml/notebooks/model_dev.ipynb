{
 "cells": [
  {
   "cell_type": "markdown",
   "id": "d5c2826f",
   "metadata": {},
   "source": [
    "# 1. Initialization"
   ]
  },
  {
   "cell_type": "code",
   "execution_count": null,
   "id": "7505004c",
   "metadata": {},
   "outputs": [],
   "source": [
    "import polars as pl\n",
    "import torch\n",
    "import torch.nn as nn\n",
    "import torch.optim as optim\n",
    "from torch.nn import functional as F\n",
    "from torch.utils.data import IterableDataset, DataLoader\n",
    "import random\n",
    "\n",
    "device = torch.device(\"cuda\" if torch.cuda.is_available() else \"cpu\")"
   ]
  },
  {
   "cell_type": "markdown",
   "id": "8fd334a2",
   "metadata": {},
   "source": [
    "# 2. Import data"
   ]
  },
  {
   "cell_type": "code",
   "execution_count": null,
   "id": "e811deb5",
   "metadata": {},
   "outputs": [],
   "source": [
    "enc_movies = pl.read_parquet(\"encoded_movies_2.parquet\")\n",
    "enc_activities = pl.read_parquet(\"encoded_activities_2.parquet\")\n",
    "\n",
    "enc_movies = enc_movies.sort(pl.col(\"id\"), descending=False)\n",
    "\n",
    "with pl.Config(tbl_cols=-1):\n",
    "    print(enc_movies)\n",
    "    print(enc_activities)"
   ]
  },
  {
   "cell_type": "markdown",
   "id": "b8abea82",
   "metadata": {},
   "source": [
    "# 3. Create dataset for training"
   ]
  },
  {
   "cell_type": "code",
   "execution_count": null,
   "id": "4b6650c1",
   "metadata": {},
   "outputs": [],
   "source": [
    "def flatten(row):\n",
    "    flattened = []\n",
    "    for val in row:\n",
    "        if isinstance(val, list):\n",
    "            flattened.extend(val)\n",
    "        else:\n",
    "            flattened.append(val)\n",
    "\n",
    "    return torch.tensor(flattened, dtype=torch.float32, device=device)"
   ]
  },
  {
   "cell_type": "code",
   "execution_count": null,
   "id": "8ef43184",
   "metadata": {},
   "outputs": [],
   "source": [
    "embd_matrix = torch.stack([flatten(row) for row in enc_movies.drop([\"id\", \"name\"]).iter_rows()])\n",
    "embd_matrix.shape"
   ]
  },
  {
   "cell_type": "code",
   "execution_count": null,
   "id": "4e8d66f8",
   "metadata": {},
   "outputs": [],
   "source": [
    "class UserActivitiyDataset(IterableDataset):\n",
    "    def __init__(self, enc_movies, enc_activities, block_size, max_retries=10):\n",
    "        self.enc_movies = enc_movies\n",
    "        self.enc_activities = enc_activities\n",
    "        self.block_size =  block_size\n",
    "        self.max_retries =  max_retries\n",
    "\n",
    "    def __iter__(self):\n",
    "        while True:\n",
    "            for _ in range(self.max_retries):\n",
    "                idx = random.randint(\n",
    "                    self.enc_activities[\"user_id\"].min(),\n",
    "                    self.enc_activities[\"user_id\"].max(),\n",
    "                )\n",
    "                user_activities = self.enc_activities.filter(pl.col(\"user_id\") == idx).sort(pl.col(\"enc_time\"), descending=False)\n",
    "                ix = random.randint(0, len(user_activities) - self.block_size - 1)\n",
    "                input_user_activities = user_activities[ix:ix + self.block_size]\n",
    "\n",
    "                x = input_user_activities.join(\n",
    "                    self.enc_movies, left_on=\"movie_id\", right_on=\"id\", how=\"inner\"\n",
    "                ).sort(pl.col(\"enc_time\"), descending=False)\n",
    "\n",
    "                next_movies = user_activities[ix + self.block_size + 1:].sort(\n",
    "                    pl.col(\"enc_time\"), descending=False\n",
    "                )\n",
    "\n",
    "                if len(next_movies) == 0:\n",
    "                    continue\n",
    "\n",
    "                movie_id = next_movies.row(0, named=True)[\"movie_id\"]\n",
    "                y = self.enc_movies.with_row_index(\"index\").filter(pl.col(\"index\") == movie_id)\n",
    "\n",
    "                if len(y) == 0:\n",
    "                    continue\n",
    "\n",
    "                watched_movies = x.join(self.enc_movies.with_row_index(\"index\"), left_on=\"movie_id\", right_on=\"id\", how=\"inner\")\n",
    "\n",
    "                yield torch.stack([flatten(row) for row in x.drop([\"user_id\", \"movie_id\", \"name\"]).iter_rows()]), y[0][\"index\"].to_torch().to(device=device), watched_movies[\"index\"].to_list()\n",
    "\n",
    "\n",
    "train_data = UserActivitiyDataset(enc_movies, enc_activities.filter(pl.col(\"user_id\").is_in([1,2,3,4,5])), 16)\n",
    "val_data = UserActivitiyDataset(enc_movies, enc_activities.filter(pl.col(\"user_id\").is_in([6])), 16)\n",
    "\n",
    "data_iter = iter(val_data)\n",
    "x, y, l = next(data_iter)\n",
    "print(x.shape)\n",
    "print(y)\n",
    "print(l)\n",
    "\n",
    "del x, y, l"
   ]
  },
  {
   "cell_type": "code",
   "execution_count": null,
   "id": "44ce42cd",
   "metadata": {},
   "outputs": [],
   "source": [
    "\n",
    "for batch_id, (xb, yb, _) in enumerate(DataLoader(train_data, batch_size=4, shuffle=False)):\n",
    "    print(xb.shape)\n",
    "    print(yb.shape)\n",
    "    break"
   ]
  },
  {
   "cell_type": "markdown",
   "id": "5657f79a",
   "metadata": {},
   "source": [
    "# 4. Build the model\n",
    "\n",
    "- First let specify the components of a transformer"
   ]
  },
  {
   "cell_type": "code",
   "execution_count": null,
   "id": "41a7203b",
   "metadata": {},
   "outputs": [],
   "source": [
    "class Head(nn.Module):\n",
    "    def __init__(self, head_size, n_embd, dropout=0.2):\n",
    "        super().__init__()\n",
    "        self.qkv = nn.Linear(n_embd, 3 * head_size, bias=False)\n",
    "        self.dropout = nn.Dropout(dropout)\n",
    "\n",
    "    def forward(self, x):\n",
    "        q, k, v = self.qkv(x).chunk(3, dim=-1)\n",
    "        out = F.scaled_dot_product_attention(q, k, v, dropout_p=self.dropout.p, is_causal=True)\n",
    "        return out"
   ]
  },
  {
   "cell_type": "code",
   "execution_count": null,
   "id": "cff5f3c2",
   "metadata": {},
   "outputs": [],
   "source": [
    "class MultiHeadAttention(nn.Module):\n",
    "    def __init__(self, num_heads, head_size, n_embd, dropout=0.2):\n",
    "        super().__init__()\n",
    "        self.heads = nn.ModuleList([Head(head_size, n_embd, dropout) for _ in range(num_heads)])\n",
    "        self.proj = nn.Linear(head_size * num_heads, n_embd)\n",
    "        self.dropout = nn.Dropout(dropout)\n",
    "\n",
    "    def forward(self, x):\n",
    "        out = torch.cat([h(x) for h in self.heads], dim=-1)\n",
    "        out = self.dropout(self.proj(out))\n",
    "        return out"
   ]
  },
  {
   "cell_type": "code",
   "execution_count": null,
   "id": "6ffad49e",
   "metadata": {},
   "outputs": [],
   "source": [
    "class FeedFoward(nn.Module):\n",
    "    def __init__(self, n_embd, dropout=0.2):\n",
    "        super().__init__()\n",
    "        self.net = nn.Sequential(\n",
    "            nn.Linear(n_embd, 4 * n_embd),\n",
    "            nn.GELU(),\n",
    "            nn.Linear(4 * n_embd, n_embd),\n",
    "            nn.Dropout(dropout),\n",
    "        )\n",
    "\n",
    "    def forward(self, x):\n",
    "        return self.net(x)"
   ]
  },
  {
   "cell_type": "code",
   "execution_count": null,
   "id": "0304ef95",
   "metadata": {},
   "outputs": [],
   "source": [
    "class Block(nn.Module):\n",
    "    def __init__(self, n_embd, n_head, dropout=0.2):\n",
    "        super().__init__()\n",
    "        head_size = n_embd // n_head\n",
    "        self.sa = MultiHeadAttention(n_head, head_size, n_embd, dropout)\n",
    "        self.ffwd = FeedFoward(n_embd, dropout)\n",
    "        self.ln1 = nn.LayerNorm(n_embd)  \n",
    "        self.ln2 = nn.LayerNorm(n_embd)\n",
    "\n",
    "    def forward(self, x):\n",
    "        x = x + self.sa(self.ln1(x))\n",
    "        x = x + self.ffwd(self.ln2(x))\n",
    "        return x\n"
   ]
  },
  {
   "cell_type": "markdown",
   "id": "c019f005",
   "metadata": {},
   "source": [
    "- Now we will assemble our transformer model"
   ]
  },
  {
   "cell_type": "code",
   "execution_count": null,
   "id": "3eb97371",
   "metadata": {
    "lines_to_next_cell": 2
   },
   "outputs": [],
   "source": [
    "class FilmRecommender(nn.Module):\n",
    "    def __init__(self, n_embd, n_head, n_layer, dropout=0.2):\n",
    "        super().__init__()\n",
    "\n",
    "        self.blocks = nn.Sequential(*[Block(n_embd, n_head, dropout) for _ in range(n_layer)])\n",
    "        self.ln_f = nn.LayerNorm(n_embd)\n",
    "        self.lm_head = nn.Linear(n_embd, n_embd-6)\n",
    "\n",
    "    def forward(self, inputs):\n",
    "        x = self.blocks(inputs)\n",
    "        x = self.ln_f(x)\n",
    "        logits = self.lm_head(x) \n",
    "\n",
    "        return logits"
   ]
  },
  {
   "cell_type": "markdown",
   "id": "7fb9af5d",
   "metadata": {},
   "source": [
    "# 4. Build the model"
   ]
  },
  {
   "cell_type": "code",
   "execution_count": null,
   "id": "d436cf43",
   "metadata": {},
   "outputs": [],
   "source": [
    "model = FilmRecommender(n_embd, n_head, n_layer, dropout).to(device)"
   ]
  },
  {
   "cell_type": "code",
   "execution_count": null,
   "id": "8a5d323e",
   "metadata": {
    "lines_to_next_cell": 0
   },
   "outputs": [],
   "source": [
    "epochs = 4000\n",
    "eval_iters = 200\n",
    "batch_size = 128\n",
    "n_embd = 610\n",
    "n_head = 10\n",
    "n_layer = 6\n",
    "dropout = 0.2\n",
    "learning_rate = 1e-4\n",
    "\n",
    "optimizer = optim.Adam(model.parameters(), lr=learning_rate)\n",
    "criterion = nn.CrossEntropyLoss()\n",
    "train_loader = DataLoader(train_data, batch_size=batch_size, shuffle=False)\n",
    "train_data_iterator = iter(train_loader)\n",
    "val_loader = DataLoader(val_data, batch_size=1, shuffle=False)\n",
    "val_data_iterator = iter(val_loader)\n",
    "\n",
    "for epoch in range(epochs):\n",
    "    xb, yb, _ = next(train_data_iterator)\n",
    "\n",
    "    optimizer.zero_grad()\n",
    "    out = model(xb)\n",
    "    out = out[:, -1, :]\n",
    "    logits = out @ embd_matrix.T\n",
    "    yb = yb.squeeze(1)\n",
    "    loss = criterion(logits, yb)\n",
    "    loss.backward()\n",
    "    optimizer.step()\n",
    "\n",
    "    if epoch % 500 == 0:\n",
    "        print(f\"Epoch: {epoch} - Loss: {loss.item()}\")\n",
    "\n",
    "right = 0\n",
    "wrong = 0\n",
    "\n",
    "with torch.no_grad():\n",
    "    for step in range(eval_iters):\n",
    "        xv, yv, movies_list = next(val_data_iterator)\n",
    "        out = model(xv)\n",
    "        out = out[:, -1, :]\n",
    "        logits = out @ embd_matrix.T\n",
    "        yv = yv.squeeze(1)\n",
    "        loss = criterion(logits, yv)\n",
    "\n",
    "        watched_movies = enc_movies.with_row_index(\"index\").filter(pl.col(\"index\").is_in(movies_list))[\"name\"].to_list()\n",
    "        movie_pred = enc_movies.with_row_index(\"index\").filter(pl.col(\"index\") == torch.argmax(F.softmax(logits[0], dim=0)).item())[0, \"name\"]\n",
    "        movie_target = enc_movies.with_row_index(\"index\").filter(pl.col(\"index\") == yv[0].item())[0, \"name\"]\n",
    "\n",
    "        print(torch.argmax(F.softmax(logits[0], dim=0)).item())\n",
    "        print(yv)\n",
    "\n",
    "        print(f\"Movies watched: {watched_movies}\")\n",
    "        print(f\"predicted next movie: {movie_pred}\")\n",
    "        print(f\"actual next movie: {movie_target}\")\n",
    "\n",
    "        if movie_pred == movie_target:\n",
    "            right = right + 1\n",
    "        else:\n",
    "            wrong = wrong + 1\n",
    "\n",
    "        if step % 10 == 0:\n",
    "            print(f\"Step {step} - Validation loss: {loss.item()}\")\n",
    "\n",
    "    print(f\"Accuracy: {right}/{right+wrong}\")"
   ]
  },
  {
   "cell_type": "markdown",
   "id": "f17e513e",
   "metadata": {},
   "source": [
    "\n"
   ]
  }
 ],
 "metadata": {
  "jupytext": {
   "main_language": "python"
  }
 },
 "nbformat": 4,
 "nbformat_minor": 5
}
