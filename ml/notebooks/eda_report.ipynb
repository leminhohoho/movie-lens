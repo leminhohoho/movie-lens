{
 "cells": [
  {
   "cell_type": "markdown",
   "id": "7725c051",
   "metadata": {},
   "source": [
    "# 1. Understand the dataset\n",
    "\n",
    "- Objective of the dataset: the dataset consist of movies, users & activities from letterboxd.com, used to predict the next movies users would watch\n",
    "\n",
    "- The dataset consists of 3 important components:\n",
    "    - `movies`: Contain the meta information for movies, it also comes with other external properties like crews, languages,...\n",
    "    - `users`: Represent an user\n",
    "    - `users_and_movies`: Contain user activities in relation to movies, it consist of \n",
    "\n",
    "# 2. Import data\n",
    "\n",
    "> The dataset is a SQLite file, we will use [polars](https://pola.rs/) for working with the dataset\n",
    "\n",
    "- Load libraries"
   ]
  },
  {
   "cell_type": "code",
   "execution_count": null,
   "id": "93a8a483",
   "metadata": {},
   "outputs": [],
   "source": [
    "import sqlite3\n",
    "import polars as pl\n",
    "import numpy as np\n",
    "import matplotlib.pyplot as plt"
   ]
  },
  {
   "cell_type": "markdown",
   "id": "e3b6752c",
   "metadata": {},
   "source": [
    "- Opening database"
   ]
  },
  {
   "cell_type": "code",
   "execution_count": null,
   "id": "848ec1dc",
   "metadata": {},
   "outputs": [],
   "source": [
    "conn = sqlite3.connect(\"/home/leminhohoho/repos/movie-lens/db/letterboxd_2.db\")"
   ]
  },
  {
   "cell_type": "markdown",
   "id": "0972d519",
   "metadata": {},
   "source": [
    "- Load tables"
   ]
  },
  {
   "cell_type": "code",
   "execution_count": null,
   "id": "a92fb54d",
   "metadata": {},
   "outputs": [],
   "source": [
    "users = pl.read_database(\"SELECT * FROM users\", connection=conn)\n",
    "movies = pl.read_database(\"SELECT * FROM movies\", connection=conn)\n",
    "crews = pl.read_database(\"SELECT * FROM crews\", connection=conn)\n",
    "crews_and_movies = pl.read_database(\"SELECT * FROM crews_and_movies\", connection=conn)\n",
    "genres = pl.read_database(\"SELECT * FROM genres\", connection=conn)\n",
    "genres_and_movies = pl.read_database(\"SELECT * FROM genres_and_movies\", connection=conn)\n",
    "themes = pl.read_database(\"SELECT * FROM themes\", connection=conn)\n",
    "themes_and_movies = pl.read_database(\"SELECT * FROM themes_and_movies\", connection=conn)\n",
    "releases = pl.read_database(\"SELECT * FROM releases\", connection=conn)\n",
    "studios = pl.read_database(\"SELECT * FROM studios\", connection=conn)\n",
    "studios_and_movies = pl.read_database(\"SELECT * FROM studios_and_movies\", connection=conn)\n",
    "countries_and_movies = pl.read_database(\"SELECT * FROM countries_and_movies\", connection=conn)\n",
    "languages_and_movies = pl.read_database(\"SELECT * FROM languages_and_movies\", connection=conn)\n",
    "users_and_movies = pl.read_database(\"SELECT * FROM users_and_movies\", connection=conn)\n",
    "\n",
    "with pl.Config(tbl_cols=-1):\n",
    "    print(users)\n",
    "    print(movies)\n",
    "    print(crews)\n",
    "    print(crews_and_movies)\n",
    "    print(genres)\n",
    "    print(genres_and_movies)\n",
    "    print(themes)\n",
    "    print(themes_and_movies)\n",
    "    print(releases)\n",
    "    print(studios)\n",
    "    print(studios_and_movies)\n",
    "    print(countries_and_movies)\n",
    "    print(languages_and_movies)\n",
    "    print(users_and_movies)"
   ]
  },
  {
   "cell_type": "markdown",
   "id": "52d3c0c7",
   "metadata": {},
   "source": [
    "# 3. Visualization\n",
    "\n",
    "- Comparison of movies made between studios"
   ]
  },
  {
   "cell_type": "code",
   "execution_count": null,
   "id": "df0b4890",
   "metadata": {
    "lines_to_next_cell": 2
   },
   "outputs": [],
   "source": [
    "studios_movies_count = studios_and_movies.join(\n",
    "    studios, left_on=\"studio_id\", right_on=\"id\"\n",
    ").with_columns(\n",
    "    pl.col(\"name\").alias(\"studio_name\")\n",
    ").drop(\"name\").join(\n",
    "    movies, left_on=\"movie_id\", right_on=\"id\" \n",
    ").select(\n",
    "    pl.col(\"studio_name\"),\n",
    "    pl.col(\"name\"),\n",
    "    pl.col(\"movie_id\"),\n",
    ").group_by(\"studio_name\").agg(pl.col(\"movie_id\").count().alias(\"movies_made\")).sort(pl.col(\"movies_made\"), descending=True).head(20)\n",
    "\n",
    "print(studios_movies_count)\n",
    "\n",
    "plt.figure(figsize=(20, 12))\n",
    "plt.bar(studios_movies_count['studio_name'].to_list(), studios_movies_count['movies_made'].to_list(), color='skyblue')\n",
    "plt.xticks(rotation=45, ha='right')\n",
    "plt.xlabel('Studio')\n",
    "plt.ylabel('Number of Movies Made')\n",
    "plt.title('Number of Movies Made by Each Studio (top )')\n",
    "plt.tight_layout()\n",
    "plt.savefig(\"/home/leminhohoho/repos/movie-lens/ml/data/studios_movies_made_comparison.png\")\n",
    "plt.show()"
   ]
  },
  {
   "cell_type": "markdown",
   "id": "1e8f2e3f",
   "metadata": {},
   "source": [
    "- Genres popularity over time"
   ]
  },
  {
   "cell_type": "code",
   "execution_count": null,
   "id": "6b69f79d",
   "metadata": {},
   "outputs": [],
   "source": [
    "genres_with_time = genres_and_movies.join(\n",
    "    movies.drop(\"name\"), left_on=\"movie_id\", right_on=\"id\" \n",
    ").join(\n",
    "    genres, left_on=\"genre_id\", right_on=\"id\" \n",
    ").join(\n",
    "    releases.filter(pl.col(\"release_type\") == \"Premiere\"), left_on=\"movie_id\", right_on=\"movie_id\" \n",
    ").with_columns(\n",
    "    pl.col(\"date\").str.strptime(pl.Date, format=\"%d %b %Y\").alias(\"date\")\n",
    ").with_columns(\n",
    "    pl.col(\"date\").dt.year().alias(\"year\"),\n",
    ").select(\n",
    "    pl.col(\"name\"), pl.col(\"year\")\n",
    ").group_by([\"year\", \"name\"]).count().sort(pl.col(\"year\"))\n",
    "\n",
    "with pl.Config(tbl_cols=-1):\n",
    "    print(genres_with_time)\n",
    "\n",
    "df_pivot = genres_with_time.pivot(\n",
    "    values=\"count\",\n",
    "    index=\"year\",\n",
    "    columns=\"name\"\n",
    ").sort(\"year\")\n",
    "\n",
    "plt.figure(figsize=(24, 12))\n",
    "for genre in df_pivot.columns[1:]:\n",
    "    plt.plot(df_pivot[\"year\"], df_pivot[genre], label=genre)\n",
    "\n",
    "plt.xlabel(\"Year\")\n",
    "plt.ylabel(\"Number of Movies\")\n",
    "plt.title(\"Movie Count per Genre Over Years\")\n",
    "plt.legend()\n",
    "plt.grid(True)\n",
    "plt.savefig(\"/home/leminhohoho/repos/movie-lens/ml/data/movies_count_based_on_genres_over_years.png\")\n",
    "plt.show()"
   ]
  },
  {
   "cell_type": "code",
   "execution_count": null,
   "id": "1c6a8646",
   "metadata": {},
   "outputs": [],
   "source": [
    "rating_per_genre = (\n",
    "    genres_and_movies\n",
    "    .join(users_and_movies, left_on=\"movie_id\", right_on=\"movie_id\")\n",
    "    .join(genres, left_on=\"genre_id\", right_on=\"id\")\n",
    "    .group_by(pl.col(\"name\"))\n",
    "    .agg(pl.col(\"rating\").mean().alias(\"avg_rating\"))\n",
    "    .select([\"name\", \"avg_rating\"])\n",
    ")\n",
    "\n",
    "# Prepare data for plotting\n",
    "genre_names = rating_per_genre[\"name\"].to_list()\n",
    "genre_ratings = rating_per_genre[\"avg_rating\"].to_list()\n",
    "\n",
    "# Normalize ratings for colormap\n",
    "rating_array = np.array(genre_ratings)\n",
    "norm_ratings = (rating_array - rating_array.min()) / (rating_array.max() - rating_array.min() + 1e-8)\n",
    "colors = plt.cm.viridis(norm_ratings)\n",
    "\n",
    "# Close previous plots\n",
    "plt.close(\"all\")\n",
    "\n",
    "# Create plot\n",
    "fig, ax = plt.subplots(figsize=(24, 12))\n",
    "bars = ax.bar(genre_names, genre_ratings, color=colors, edgecolor='black', alpha=0.8)\n",
    "\n",
    "# Customize axes\n",
    "ax.set_xlabel('Genres', fontsize=20)\n",
    "ax.set_ylabel('Average Rating', fontsize=20)\n",
    "ax.set_title('Average Rating by Genre', fontsize=20, fontweight='bold')\n",
    "plt.xticks(rotation=45, ha='right', fontsize=20)\n",
    "\n",
    "# Increase y-limit slightly so labels are above bars\n",
    "ax.set_ylim(0, max(genre_ratings) * 1.1)\n",
    "\n",
    "# Add value labels above bars\n",
    "for bar in bars:\n",
    "    height = bar.get_height()\n",
    "    ax.text(bar.get_x() + bar.get_width()/2., height + max(genre_ratings)*0.02,  # small offset above bar\n",
    "            f'{height:.2f}', ha='center', va='bottom', fontsize=20, fontweight='bold')\n",
    "\n",
    "# Styling\n",
    "ax.spines['top'].set_visible(False)\n",
    "ax.spines['right'].set_visible(False)\n",
    "ax.yaxis.grid(True, alpha=0.3)\n",
    "\n",
    "plt.tight_layout()\n",
    "plt.savefig(\"/home/leminhohoho/repos/movie-lens/ml/data/rating_per_genre.png\")\n",
    "plt.show()"
   ]
  }
 ],
 "metadata": {
  "kernelspec": {
   "display_name": "Python 3 (ipykernel)",
   "language": "python",
   "name": "python3"
  },
  "language_info": {
   "codemirror_mode": {
    "name": "ipython",
    "version": 3
   },
   "file_extension": ".py",
   "mimetype": "text/x-python",
   "name": "python",
   "nbconvert_exporter": "python",
   "pygments_lexer": "ipython3",
   "version": "3.13.7"
  }
 },
 "nbformat": 4,
 "nbformat_minor": 5
}
